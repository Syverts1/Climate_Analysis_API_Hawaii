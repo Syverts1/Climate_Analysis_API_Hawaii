{
 "cells": [
  {
   "cell_type": "code",
   "execution_count": 2,
   "metadata": {},
   "outputs": [],
   "source": [
    "# Python SQL toolkit and Object Relational Mapper\n",
    "import sqlalchemy\n",
    "from sqlalchemy.ext.automap import automap_base\n",
    "from sqlalchemy.orm import Session\n",
    "from sqlalchemy import create_engine, inspect, func\n",
    "\n",
    "import pandas as pd\n",
    "import numpy as np\n",
    "#Vacation days: 06-11-2018 through 06-18-2018\n",
    "import matplotlib.pyplot as plt\n",
    "import matplotlib.dates as dates\n",
    "\n",
    "import re"
   ]
  },
  {
   "cell_type": "code",
   "execution_count": 3,
   "metadata": {},
   "outputs": [],
   "source": [
    "#use SQLAlchemy create_engine to connect to the sqlite database\n",
    "engine = create_engine(\"sqlite:///hawaii.sqlite\", echo=False)"
   ]
  },
  {
   "cell_type": "code",
   "execution_count": 4,
   "metadata": {},
   "outputs": [
    {
     "data": {
      "text/plain": [
       "['measurements', 'stations']"
      ]
     },
     "execution_count": 4,
     "metadata": {},
     "output_type": "execute_result"
    }
   ],
   "source": [
    "# Reflect Database into ORM classes\n",
    "Base = automap_base()\n",
    "Base.prepare(engine, reflect=True)\n",
    "Base.classes.keys()"
   ]
  },
  {
   "cell_type": "code",
   "execution_count": 5,
   "metadata": {},
   "outputs": [
    {
     "data": {
      "text/plain": [
       "['measurements', 'stations']"
      ]
     },
     "execution_count": 5,
     "metadata": {},
     "output_type": "execute_result"
    }
   ],
   "source": [
    "inspector = inspect(engine)\n",
    "inspector.get_table_names()"
   ]
  },
  {
   "cell_type": "code",
   "execution_count": 6,
   "metadata": {},
   "outputs": [
    {
     "name": "stdout",
     "output_type": "stream",
     "text": [
      "id\n",
      "station\n",
      "date\n",
      "prcp\n",
      "tobs\n"
     ]
    }
   ],
   "source": [
    "columns = inspector.get_columns('measurements')\n",
    "for c in columns:\n",
    "    print(c['name'])"
   ]
  },
  {
   "cell_type": "code",
   "execution_count": 7,
   "metadata": {},
   "outputs": [],
   "source": [
    "#reflect tables into classes and save a reference called Station and Measurement\n",
    "Station = Base.classes.stations\n",
    "Measurement = Base.classes.measurements"
   ]
  },
  {
   "cell_type": "code",
   "execution_count": 8,
   "metadata": {},
   "outputs": [],
   "source": [
    "# create a session\n",
    "session = Session(engine)"
   ]
  },
  {
   "cell_type": "code",
   "execution_count": 9,
   "metadata": {},
   "outputs": [],
   "source": [
    "#Precipitation Analysis\n",
    "#Dependencies\n",
    "import datetime as dt \n",
    "from datetime import date"
   ]
  },
  {
   "cell_type": "code",
   "execution_count": 10,
   "metadata": {},
   "outputs": [
    {
     "name": "stdout",
     "output_type": "stream",
     "text": [
      "2018-05-01\n",
      "2017-05-01\n"
     ]
    }
   ],
   "source": [
    "today=date.today()\n",
    "last_year=date.today()-dt.timedelta(365)\n",
    "\n",
    "print(today)\n",
    "print(last_year)"
   ]
  },
  {
   "cell_type": "code",
   "execution_count": 11,
   "metadata": {},
   "outputs": [],
   "source": [
    "data = session.query(Measurement.date,Measurement.prcp).filter(Measurement.date>=last_year).all()"
   ]
  },
  {
   "cell_type": "code",
   "execution_count": 12,
   "metadata": {},
   "outputs": [
    {
     "data": {
      "text/html": [
       "<div>\n",
       "<style scoped>\n",
       "    .dataframe tbody tr th:only-of-type {\n",
       "        vertical-align: middle;\n",
       "    }\n",
       "\n",
       "    .dataframe tbody tr th {\n",
       "        vertical-align: top;\n",
       "    }\n",
       "\n",
       "    .dataframe thead th {\n",
       "        text-align: right;\n",
       "    }\n",
       "</style>\n",
       "<table border=\"1\" class=\"dataframe\">\n",
       "  <thead>\n",
       "    <tr style=\"text-align: right;\">\n",
       "      <th></th>\n",
       "      <th>precipitation</th>\n",
       "    </tr>\n",
       "    <tr>\n",
       "      <th>date</th>\n",
       "      <th></th>\n",
       "    </tr>\n",
       "  </thead>\n",
       "  <tbody>\n",
       "    <tr>\n",
       "      <th>2017-05-01</th>\n",
       "      <td>0.135000</td>\n",
       "    </tr>\n",
       "    <tr>\n",
       "      <th>2017-05-02</th>\n",
       "      <td>0.008333</td>\n",
       "    </tr>\n",
       "    <tr>\n",
       "      <th>2017-05-03</th>\n",
       "      <td>0.006000</td>\n",
       "    </tr>\n",
       "    <tr>\n",
       "      <th>2017-05-04</th>\n",
       "      <td>0.016000</td>\n",
       "    </tr>\n",
       "    <tr>\n",
       "      <th>2017-05-05</th>\n",
       "      <td>0.063333</td>\n",
       "    </tr>\n",
       "  </tbody>\n",
       "</table>\n",
       "</div>"
      ],
      "text/plain": [
       "            precipitation\n",
       "date                     \n",
       "2017-05-01       0.135000\n",
       "2017-05-02       0.008333\n",
       "2017-05-03       0.006000\n",
       "2017-05-04       0.016000\n",
       "2017-05-05       0.063333"
      ]
     },
     "execution_count": 12,
     "metadata": {},
     "output_type": "execute_result"
    }
   ],
   "source": [
    "#put the pulled data into a dataframe\n",
    "precip_analys = pd.DataFrame(data)\n",
    "\n",
    "#rename prcp to Precipitation and set the date to the index\n",
    "precip_analys=precip_analys.rename(columns={\"prcp\":\"precipitation\"})\n",
    "precip_analys= precip_analys.groupby(by='date').mean()\n",
    "\n",
    "precip_analys.head()"
   ]
  },
  {
   "cell_type": "code",
   "execution_count": 13,
   "metadata": {},
   "outputs": [
    {
     "data": {
      "text/plain": [
       "115"
      ]
     },
     "execution_count": 13,
     "metadata": {},
     "output_type": "execute_result"
    }
   ],
   "source": [
    "precip_analys.precipitation.count()"
   ]
  },
  {
   "cell_type": "code",
   "execution_count": 14,
   "metadata": {},
   "outputs": [
    {
     "data": {
      "text/plain": [
       "['2017-05-01',\n",
       " '2017-05-11',\n",
       " '2017-05-21',\n",
       " '2017-05-31',\n",
       " '2017-06-10',\n",
       " '2017-06-20',\n",
       " '2017-06-30',\n",
       " '2017-07-10',\n",
       " '2017-07-20',\n",
       " '2017-07-30',\n",
       " '2017-08-09',\n",
       " '2017-08-19']"
      ]
     },
     "execution_count": 14,
     "metadata": {},
     "output_type": "execute_result"
    }
   ],
   "source": [
    "precip_label = []\n",
    "\n",
    "ind = 0\n",
    "for item,i in enumerate(precip_analys[\"precipitation\"]):\n",
    "    if ind % 10 == 0:\n",
    "        precip_label.append(precip_analys.index[ind])\n",
    "    ind = ind + 1\n",
    "\n",
    "precip_label"
   ]
  },
  {
   "cell_type": "code",
   "execution_count": 15,
   "metadata": {},
   "outputs": [
    {
     "data": {
      "image/png": "[encoded data removed]",
      "text/plain": [
       "<Figure size 432x288 with 1 Axes>"
      ]
     },
     "metadata": {},
     "output_type": "display_data"
    }
   ],
   "source": [
    "precip_analys.plot(x_compat=True)\n",
    "plt.tight_layout\n",
    "\n",
    "plt.legend(loc=2)\n",
    "plt.grid(True)\n",
    "plt.ylabel(\"Inches\")\n",
    "\n",
    "plt.xticks(np.arange(1,117,step=10),precip_label,rotation=45,ha='right')\n",
    "plt.show()"
   ]
  },
  {
   "cell_type": "code",
   "execution_count": 16,
   "metadata": {},
   "outputs": [
    {
     "name": "stdout",
     "output_type": "stream",
     "text": [
      "       precipitation\n",
      "count     115.000000\n",
      "mean        0.119059\n",
      "std         0.158364\n",
      "min         0.000000\n",
      "25%         0.017083\n",
      "50%         0.070000\n",
      "75%         0.145667\n",
      "max         0.926000\n",
      "115.0\n"
     ]
    }
   ],
   "source": [
    "#print the summary statistics for the precipitation data.\n",
    "summary = precip_analys.describe()\n",
    "\n",
    "print(summary)\n",
    "print(summary.iloc[0,0])"
   ]
  },
  {
   "cell_type": "code",
   "execution_count": 17,
   "metadata": {},
   "outputs": [
    {
     "name": "stdout",
     "output_type": "stream",
     "text": [
      "id\n",
      "station\n",
      "name\n",
      "latitude\n",
      "longitude\n",
      "elevation\n"
     ]
    }
   ],
   "source": [
    "#Station Analysis\n",
    "columns = inspector.get_columns('stations')\n",
    "for c in columns:\n",
    "    print(c['name'])"
   ]
  },
  {
   "cell_type": "code",
   "execution_count": 18,
   "metadata": {},
   "outputs": [
    {
     "data": {
      "text/plain": [
       "9"
      ]
     },
     "execution_count": 18,
     "metadata": {},
     "output_type": "execute_result"
    }
   ],
   "source": [
    "#Design a query to calculate the total number of stations\n",
    "num_stations = session.query(Station.id).count()\n",
    "\n",
    "num_stations"
   ]
  },
  {
   "cell_type": "code",
   "execution_count": 19,
   "metadata": {},
   "outputs": [
    {
     "name": "stdout",
     "output_type": "stream",
     "text": [
      "[('USC00519281', 2772), ('USC00513117', 2696), ('USC00519397', 2685), ('USC00519523', 2572), ('USC00516128', 2484), ('USC00514830', 1937), ('USC00511918', 1932), ('USC00517948', 683), ('USC00518838', 342)]\n"
     ]
    }
   ],
   "source": [
    "#Design a query to find the most active stations\n",
    "active_stations = session.query(Measurement.station,\n",
    "                                func.count(Measurement.tobs)).group_by(Measurement.station).order_by(func.count(Measurement.tobs).desc()).all()\n",
    "\n",
    "#List the stations and obsevation counts in descending order\n",
    "print(active_stations)"
   ]
  },
  {
   "cell_type": "code",
   "execution_count": 21,
   "metadata": {},
   "outputs": [
    {
     "name": "stdout",
     "output_type": "stream",
     "text": [
      "USC00519281 is the most active station with 2772 obsevations.\n"
     ]
    }
   ],
   "source": [
    "#Which station has the highest number of observations?\n",
    "print(active_stations[0][0] + \" is the most active station with \" +\n",
    "      str(active_stations[0][1]) + \" obsevations.\")"
   ]
  },
  {
   "cell_type": "code",
   "execution_count": 119,
   "metadata": {},
   "outputs": [],
   "source": [
    "#Design a query to retrieve the last 12 months of temperature observation data (tobs)\n",
    "\n",
    "active_tobs = session.query(Measurement.station,Measurement.date,Measurement.tobs).filter(Measurement.date>=last_year,Measurement.station==active_stations[0][0]).order_by(Measurement.tobs).all()"
   ]
  },
  {
   "cell_type": "code",
   "execution_count": 120,
   "metadata": {},
   "outputs": [
    {
     "data": {
      "text/html": [
       "<div>\n",
       "<style scoped>\n",
       "    .dataframe tbody tr th:only-of-type {\n",
       "        vertical-align: middle;\n",
       "    }\n",
       "\n",
       "    .dataframe tbody tr th {\n",
       "        vertical-align: top;\n",
       "    }\n",
       "\n",
       "    .dataframe thead th {\n",
       "        text-align: right;\n",
       "    }\n",
       "</style>\n",
       "<table border=\"1\" class=\"dataframe\">\n",
       "  <thead>\n",
       "    <tr style=\"text-align: right;\">\n",
       "      <th></th>\n",
       "      <th>station_id</th>\n",
       "      <th>date</th>\n",
       "      <th>tobs</th>\n",
       "    </tr>\n",
       "  </thead>\n",
       "  <tbody>\n",
       "    <tr>\n",
       "      <th>0</th>\n",
       "      <td>USC00519281</td>\n",
       "      <td>2017-05-01</td>\n",
       "      <td>65.0</td>\n",
       "    </tr>\n",
       "    <tr>\n",
       "      <th>1</th>\n",
       "      <td>USC00519281</td>\n",
       "      <td>2017-05-09</td>\n",
       "      <td>67.0</td>\n",
       "    </tr>\n",
       "    <tr>\n",
       "      <th>2</th>\n",
       "      <td>USC00519281</td>\n",
       "      <td>2017-05-19</td>\n",
       "      <td>68.0</td>\n",
       "    </tr>\n",
       "    <tr>\n",
       "      <th>3</th>\n",
       "      <td>USC00519281</td>\n",
       "      <td>2017-05-18</td>\n",
       "      <td>69.0</td>\n",
       "    </tr>\n",
       "    <tr>\n",
       "      <th>4</th>\n",
       "      <td>USC00519281</td>\n",
       "      <td>2017-07-10</td>\n",
       "      <td>69.0</td>\n",
       "    </tr>\n",
       "  </tbody>\n",
       "</table>\n",
       "</div>"
      ],
      "text/plain": [
       "    station_id        date  tobs\n",
       "0  USC00519281  2017-05-01  65.0\n",
       "1  USC00519281  2017-05-09  67.0\n",
       "2  USC00519281  2017-05-19  68.0\n",
       "3  USC00519281  2017-05-18  69.0\n",
       "4  USC00519281  2017-07-10  69.0"
      ]
     },
     "execution_count": 120,
     "metadata": {},
     "output_type": "execute_result"
    }
   ],
   "source": [
    "#plot the results as a histogram with bins=12\n",
    "\n",
    "df_tobs = pd.DataFrame(data=active_tobs,columns=[\"station_id\",\"date\",\"tobs\"])\n",
    "\n",
    "df_tobs.head()"
   ]
  },
  {
   "cell_type": "code",
   "execution_count": 121,
   "metadata": {},
   "outputs": [
    {
     "data": {
      "image/png": "[encoded data removed]",
      "text/plain": [
       "<Figure size 432x288 with 1 Axes>"
      ]
     },
     "metadata": {},
     "output_type": "display_data"
    }
   ],
   "source": [
    "plt.hist(df_tobs.tobs,bins=12)\n",
    "\n",
    "plt.legend([\"tobs\"])\n",
    "plt.ylabel(\"Frequency\")\n",
    "plt.grid()\n",
    "\n",
    "plt.show()"
   ]
  },
  {
   "cell_type": "code",
   "execution_count": 110,
   "metadata": {},
   "outputs": [],
   "source": [
    "#Temperature Analysis\n",
    "def calc_temps(start_date,end_date):\n",
    "    try: \n",
    "        #verify start date and end date are in the right format\n",
    "        s_date = dt.datetime.strptime(start_date,\"%y-%m-%d\")\n",
    "        e_date = dt.datetime.strptime(end_date,\"%y-%m-%d\")\n",
    "        \n",
    "        #find matching dates from the previous year\n",
    "        p_s_date = s_date-dt.timedelta(365)\n",
    "        p_e_date = e_date-dt.timedelta(365)\n",
    "        \n",
    "        #query measurements to see what the weather was like the previous year\n",
    "        print(\"Searching for weather data from \" + str(p_s_date) + \" to \" + str(p_e_date))\n",
    "        \n",
    "        weather_data = session.query(Measurement.date,func.avg(Measurement.tobs)).filter(Measurement.date>=p_s_date,Measurement.date<=p_e_date).group_by(Measurement.date).all()\n",
    "        \n",
    "        df_weather = pd.DataFrame(data=weather_data,columns=[\"date\",\"temp\"])\n",
    "        min_temp = df_weather[\"temp\"].min()\n",
    "        max_temp = df_weather[\"temp\"].max()\n",
    "        mean_temp = df_weather[\"temp\"].mean()\n",
    "        \n",
    "        print(\"min_temp, max_temp, and mean_temp are returned\")\n",
    "        return min_temp, max_temp, mean_temp\n",
    "        \n",
    "    except:\n",
    "        print(\"input dates are not in correct format. Dates should be formated as %y-%d-%y\")"
   ]
  },
  {
   "cell_type": "code",
   "execution_count": 111,
   "metadata": {},
   "outputs": [
    {
     "name": "stdout",
     "output_type": "stream",
     "text": [
      "Please input a start date (%y-%m-%d): 18-04-01\n",
      "Please input an end date (%y-%m-%d): 18-06-01\n"
     ]
    }
   ],
   "source": [
    "date1 = input(\"Please input a start date (%y-%m-%d): \")\n",
    "date2 = input(\"Please input an end date (%y-%m-%d): \")"
   ]
  },
  {
   "cell_type": "code",
   "execution_count": 112,
   "metadata": {},
   "outputs": [
    {
     "name": "stdout",
     "output_type": "stream",
     "text": [
      "Searching for weather data from 2017-04-01 00:00:00 to 2017-06-01 00:00:00\n",
      "min_temp, max_temp, and mean_temp are returned\n",
      "(61.5, 78.16666666666667, 74.35538641686183)\n"
     ]
    }
   ],
   "source": [
    "temps = calc_temps(date1,date2)\n",
    "\n",
    "min_temp = temps[0]\n",
    "max_temp = temps[1]\n",
    "mean_temp = temps[2]\n",
    "print(temps)"
   ]
  },
  {
   "cell_type": "code",
   "execution_count": 118,
   "metadata": {},
   "outputs": [
    {
     "data": {
      "image/png": "[encoded data removed]",
      "text/plain": [
       "<Figure size 180x360 with 1 Axes>"
      ]
     },
     "metadata": {},
     "output_type": "display_data"
    }
   ],
   "source": [
    "#plot the min, avg, and max temperatures\n",
    "\n",
    "#calculate error bars\n",
    "y_err1 = mean_temp - min_temp\n",
    "y_err2 = max_temp - mean_temp\n",
    "\n",
    "#plot bar chart\n",
    "fig, ax = plt.subplots(figsize=(2.5,5))\n",
    "bar = ax.bar(\"\",height=mean_temp,yerr=[[y_err1],[y_err2]])\n",
    "\n",
    "plt.ylim(0,100)\n",
    "plt.title(\"Trip Avg Temp\")\n",
    "plt.ylabel(\"Temp (F)\")\n",
    "plt.xticks([])\n",
    "fig.tight_layout()\n",
    "\n",
    "plt.grid()\n",
    "plt.show()"
   ]
  },
  {
   "cell_type": "code",
   "execution_count": null,
   "metadata": {},
   "outputs": [],
   "source": []
  }
 ],
 "metadata": {
  "kernelspec": {
   "display_name": "Python 3",
   "language": "python",
   "name": "python3"
  },
  "language_info": {
   "codemirror_mode": {
    "name": "ipython",
    "version": 3
   },
   "file_extension": ".py",
   "mimetype": "text/x-python",
   "name": "python",
   "nbconvert_exporter": "python",
   "pygments_lexer": "ipython3",
   "version": "3.6.5"
  }
 },
 "nbformat": 4,
 "nbformat_minor": 2
}
